{
 "cells": [
  {
   "cell_type": "markdown",
   "metadata": {},
   "source": [
    "# Value at Risk"
   ]
  },
  {
   "cell_type": "markdown",
   "metadata": {},
   "source": [
    "O Value at Risk (ou simplesmente Var) é um indicador estatístico de risco, usado para quantificar a **probabilidade** de ocorrência de um _Máximo Drawdown_ de um ativo ou portfólio, dado um nível de confiança e um intervalo de tempo determinados. O VaR é um dos principais métodos usados para gestão de riscos em fundos de investimentos e outras instituições financeiras, principalmente para casos que envolvam _operações alavancadas_. \n",
    "\n",
    "**Exemplo:** Dado um intervalo de confiança de 95%, o VaR obtido é de R$ 100.000,00 para os próximos 7 dias."
   ]
  },
  {
   "attachments": {
    "VaR-example.jpg": {
     "image/jpeg": "[encoded data removed]"
    }
   },
   "cell_type": "markdown",
   "metadata": {},
   "source": [
    "Existem dois tipos diferentes de VaR, o **Paramétrico** e o **Não Paramétrico**, diferenciados apenas pelos métodos de cálculo. O VaR Paramétrico possui este nome pois se baseia na aproximação de alguma distribuição estatística já existente, enquanto que o Não Paramétrico por usa vez não realiza esse tipo de aproximação. \n",
    "\n",
    "Este projeto tem como objetivo trabalhar (primeiramente) o VaR **Paramétrico**, mais especificamente pelo método **Variância-Covariância**, que aproxima os resultados de uma distribuição normal, conforme demonstrado na imagem abaixo.\n",
    "\n",
    "![VaR-example.jpg](attachment:VaR-example.jpg)"
   ]
  },
  {
   "cell_type": "markdown",
   "metadata": {},
   "source": [
    "#### **Etapas do projeto:** <br>\n",
    "1) Calcular retornos periódicos dos ativos selecionados <br>\n",
    "2) Calcular matriz de covariância <br>\n",
    "3) Calcular média e desvio padrão do portfolio <br>\n",
    "4) Calcular aproximação da distribuição normal com um interalo de confiança, desvio padrão e média específicos <br>\n",
    "5) Calcular o VaR para o portfolio subtraindo o aporte inicial do _cutoff1_ <br>\n",
    "6) Checar a proximidade em relação a Distribuição Normal"
   ]
  },
  {
   "cell_type": "markdown",
   "metadata": {},
   "source": [
    "### 1- Calcular retornos periódicos dos ativos selecionados"
   ]
  },
  {
   "cell_type": "code",
   "execution_count": 9,
   "metadata": {},
   "outputs": [
    {
     "name": "stdout",
     "output_type": "stream",
     "text": [
      "Requirement already satisfied: pip in c:\\users\\user\\appdata\\local\\programs\\python\\python310\\lib\\site-packages (22.0.4)\n",
      "Collecting pip\n",
      "  Downloading pip-22.2.2-py3-none-any.whl (2.0 MB)\n",
      "     ---------------------------------------- 2.0/2.0 MB 3.6 MB/s eta 0:00:00\n",
      "Installing collected packages: pip\n",
      "  Attempting uninstall: pip\n",
      "    Found existing installation: pip 22.0.4\n",
      "    Uninstalling pip-22.0.4:\n",
      "      Successfully uninstalled pip-22.0.4\n",
      "Successfully installed pip-22.2.2\n",
      "Note: you may need to restart the kernel to use updated packages.\n"
     ]
    },
    {
     "name": "stderr",
     "output_type": "stream",
     "text": [
      "  WARNING: The scripts pip.exe, pip3.10.exe and pip3.exe are installed in 'c:\\Users\\User\\AppData\\Local\\Programs\\Python\\Python310\\Scripts' which is not on PATH.\n",
      "  Consider adding this directory to PATH or, if you prefer to suppress this warning, use --no-warn-script-location.\n"
     ]
    },
    {
     "name": "stdout",
     "output_type": "stream",
     "text": [
      "Note: you may need to restart the kernel to use updated packages.\n",
      "Note: you may need to restart the kernel to use updated packages.\n",
      "Note: you may need to restart the kernel to use updated packages.\n",
      "Note: you may need to restart the kernel to use updated packages.\n",
      "Note: you may need to restart the kernel to use updated packages.\n",
      "Note: you may need to restart the kernel to use updated packages.\n",
      "Note: you may need to restart the kernel to use updated packages.\n"
     ]
    }
   ],
   "source": [
    "# Instalação das bibliotecas\n",
    "%pip install --upgrade pip\n",
    "%pip install pandas_datareader --quiet\n",
    "%pip install pandas --quiet\n",
    "%pip install yfinance --quiet\n",
    "%pip install fix_yahoo_finance --quiet\n",
    "%pip install numpy --quiet\n",
    "%pip install datetime --quiet\n",
    "%pip install scipy --quiet\n"
   ]
  },
  {
   "cell_type": "code",
   "execution_count": 10,
   "metadata": {},
   "outputs": [],
   "source": [
    "# Importando bibliotecas\n",
    "import pandas as pd\n",
    "from pandas_datareader import data as pdr\n",
    "import fix_yahoo_finance as yf\n",
    "import numpy as np\n",
    "import datetime as dt\n",
    "import scipy.stats\n",
    "from scipy.stats import norm"
   ]
  },
  {
   "cell_type": "code",
   "execution_count": 11,
   "metadata": {},
   "outputs": [
    {
     "data": {
      "text/html": [
       "<div>\n",
       "<style scoped>\n",
       "    .dataframe tbody tr th:only-of-type {\n",
       "        vertical-align: middle;\n",
       "    }\n",
       "\n",
       "    .dataframe tbody tr th {\n",
       "        vertical-align: top;\n",
       "    }\n",
       "\n",
       "    .dataframe thead th {\n",
       "        text-align: right;\n",
       "    }\n",
       "</style>\n",
       "<table border=\"1\" class=\"dataframe\">\n",
       "  <thead>\n",
       "    <tr style=\"text-align: right;\">\n",
       "      <th>Symbols</th>\n",
       "      <th>AAPL</th>\n",
       "      <th>FB</th>\n",
       "      <th>C</th>\n",
       "      <th>DIS</th>\n",
       "    </tr>\n",
       "    <tr>\n",
       "      <th>Date</th>\n",
       "      <th></th>\n",
       "      <th></th>\n",
       "      <th></th>\n",
       "      <th></th>\n",
       "    </tr>\n",
       "  </thead>\n",
       "  <tbody>\n",
       "    <tr>\n",
       "      <th>2022-08-26</th>\n",
       "      <td>-0.037699</td>\n",
       "      <td>-0.041474</td>\n",
       "      <td>-0.043796</td>\n",
       "      <td>-0.028861</td>\n",
       "    </tr>\n",
       "    <tr>\n",
       "      <th>2022-08-29</th>\n",
       "      <td>-0.013690</td>\n",
       "      <td>-0.016133</td>\n",
       "      <td>-0.008236</td>\n",
       "      <td>-0.004734</td>\n",
       "    </tr>\n",
       "    <tr>\n",
       "      <th>2022-08-30</th>\n",
       "      <td>-0.015305</td>\n",
       "      <td>-0.012628</td>\n",
       "      <td>-0.005874</td>\n",
       "      <td>-0.009689</td>\n",
       "    </tr>\n",
       "    <tr>\n",
       "      <th>2022-08-31</th>\n",
       "      <td>-0.010635</td>\n",
       "      <td>0.036714</td>\n",
       "      <td>-0.005501</td>\n",
       "      <td>-0.003113</td>\n",
       "    </tr>\n",
       "    <tr>\n",
       "      <th>2022-09-01</th>\n",
       "      <td>0.004707</td>\n",
       "      <td>0.014914</td>\n",
       "      <td>-0.001229</td>\n",
       "      <td>0.004015</td>\n",
       "    </tr>\n",
       "  </tbody>\n",
       "</table>\n",
       "</div>"
      ],
      "text/plain": [
       "Symbols         AAPL        FB         C       DIS\n",
       "Date                                              \n",
       "2022-08-26 -0.037699 -0.041474 -0.043796 -0.028861\n",
       "2022-08-29 -0.013690 -0.016133 -0.008236 -0.004734\n",
       "2022-08-30 -0.015305 -0.012628 -0.005874 -0.009689\n",
       "2022-08-31 -0.010635  0.036714 -0.005501 -0.003113\n",
       "2022-09-01  0.004707  0.014914 -0.001229  0.004015"
      ]
     },
     "execution_count": 11,
     "metadata": {},
     "output_type": "execute_result"
    }
   ],
   "source": [
    "#Escolhendo ações (stocks)\n",
    "tickers = ['AAPL','FB', 'C', 'DIS']\n",
    "\n",
    "#Escolhendo sizing de cada ativo\n",
    "pesos = np.array([.25, .3, .15, .3])\n",
    "\n",
    "#Aporte inicial\n",
    "aporte = 100000\n",
    "\n",
    "#Obtendo preços de ativos desde 2019\n",
    "data = pdr.get_data_yahoo(tickers, start=\"2019-01-01\", end=dt.date.today())['Close']\n",
    "\n",
    "#Calculando retornos periódicos\n",
    "retornos = data.pct_change()\n",
    "retornos.tail()"
   ]
  },
  {
   "cell_type": "markdown",
   "metadata": {},
   "source": [
    "### 2 - Matriz Covariância"
   ]
  },
  {
   "cell_type": "code",
   "execution_count": 4,
   "metadata": {},
   "outputs": [
    {
     "data": {
      "text/html": [
       "<div>\n",
       "<style scoped>\n",
       "    .dataframe tbody tr th:only-of-type {\n",
       "        vertical-align: middle;\n",
       "    }\n",
       "\n",
       "    .dataframe tbody tr th {\n",
       "        vertical-align: top;\n",
       "    }\n",
       "\n",
       "    .dataframe thead th {\n",
       "        text-align: right;\n",
       "    }\n",
       "</style>\n",
       "<table border=\"1\" class=\"dataframe\">\n",
       "  <thead>\n",
       "    <tr style=\"text-align: right;\">\n",
       "      <th>Symbols</th>\n",
       "      <th>AAPL</th>\n",
       "      <th>FB</th>\n",
       "      <th>C</th>\n",
       "      <th>DIS</th>\n",
       "    </tr>\n",
       "    <tr>\n",
       "      <th>Symbols</th>\n",
       "      <th></th>\n",
       "      <th></th>\n",
       "      <th></th>\n",
       "      <th></th>\n",
       "    </tr>\n",
       "  </thead>\n",
       "  <tbody>\n",
       "    <tr>\n",
       "      <th>AAPL</th>\n",
       "      <td>0.000461</td>\n",
       "      <td>0.000385</td>\n",
       "      <td>0.000271</td>\n",
       "      <td>0.000214</td>\n",
       "    </tr>\n",
       "    <tr>\n",
       "      <th>FB</th>\n",
       "      <td>0.000385</td>\n",
       "      <td>0.001179</td>\n",
       "      <td>0.000258</td>\n",
       "      <td>0.000382</td>\n",
       "    </tr>\n",
       "    <tr>\n",
       "      <th>C</th>\n",
       "      <td>0.000271</td>\n",
       "      <td>0.000258</td>\n",
       "      <td>0.000718</td>\n",
       "      <td>0.000362</td>\n",
       "    </tr>\n",
       "    <tr>\n",
       "      <th>DIS</th>\n",
       "      <td>0.000214</td>\n",
       "      <td>0.000382</td>\n",
       "      <td>0.000362</td>\n",
       "      <td>0.000465</td>\n",
       "    </tr>\n",
       "  </tbody>\n",
       "</table>\n",
       "</div>"
      ],
      "text/plain": [
       "Symbols      AAPL        FB         C       DIS\n",
       "Symbols                                        \n",
       "AAPL     0.000461  0.000385  0.000271  0.000214\n",
       "FB       0.000385  0.001179  0.000258  0.000382\n",
       "C        0.000271  0.000258  0.000718  0.000362\n",
       "DIS      0.000214  0.000382  0.000362  0.000465"
      ]
     },
     "execution_count": 4,
     "metadata": {},
     "output_type": "execute_result"
    }
   ],
   "source": [
    "#Gerando Matriz\n",
    "cov_matrix = retornos.cov()\n",
    "cov_matrix"
   ]
  },
  {
   "cell_type": "markdown",
   "metadata": {},
   "source": [
    "### 3 - Média e Desvio Padrão do Portfolio "
   ]
  },
  {
   "cell_type": "code",
   "execution_count": 5,
   "metadata": {},
   "outputs": [],
   "source": [
    "# Média\n",
    "med_ret = retornos.mean()\n",
    "\n",
    "# Aplicando média para o Portfolio\n",
    "med_port = med_ret.dot(pesos)\n",
    "\n",
    "# Desvio Padrão\n",
    "port_dp = np.sqrt(pesos.T.dot(cov_matrix).dot(pesos))    \n",
    "\n",
    "# Aplicando média para o investimento\n",
    "med_inv = (1 + med_port) * aporte\n",
    "\n",
    "# Aplicando Desvio Padrão para o investimento\n",
    "stdev_inv = aporte * port_dp"
   ]
  },
  {
   "cell_type": "markdown",
   "metadata": {},
   "source": [
    "### 4 - Calcular aproximação da distribuição normal com um interalo de confiança, desvio padrão e média específicos"
   ]
  },
  {
   "cell_type": "code",
   "execution_count": 6,
   "metadata": {},
   "outputs": [],
   "source": [
    "#1 - 95% (intervalo de confiança)\n",
    "conf_level1 = 0.05\n",
    "\n",
    "# Juntando todas as informações calculadas para aproximação da normal\n",
    "cutoff1 = norm.ppf(conf_level1, med_inv, stdev_inv)"
   ]
  },
  {
   "cell_type": "markdown",
   "metadata": {},
   "source": [
    "### 5 - Calcular o VaR para o portfolio subtraindo o aporte inicial do _cutoff1_"
   ]
  },
  {
   "cell_type": "code",
   "execution_count": 7,
   "metadata": {},
   "outputs": [
    {
     "name": "stdout",
     "output_type": "stream",
     "text": [
      "VaR = US$ 3426.29\n"
     ]
    }
   ],
   "source": [
    "# VaR estimado para 1 dia, com 95% de confiança\n",
    "var_1d1 = aporte - cutoff1\n",
    "var_rel = var_1d1/aporte\n",
    "print('VaR = US$', '{:.2f}'.format(var_1d1))"
   ]
  },
  {
   "cell_type": "markdown",
   "metadata": {},
   "source": [
    "### 6 - Checar a proximidade em relação a Distribuição Normal"
   ]
  },
  {
   "cell_type": "code",
   "execution_count": 8,
   "metadata": {},
   "outputs": [
    {
     "data": {
      "image/png": "[encoded data removed]",
      "text/plain": [
       "<Figure size 432x288 with 1 Axes>"
      ]
     },
     "metadata": {
      "needs_background": "light"
     },
     "output_type": "display_data"
    },
    {
     "data": {
      "image/png": "[encoded data removed]",
      "text/plain": [
       "<Figure size 432x288 with 1 Axes>"
      ]
     },
     "metadata": {
      "needs_background": "light"
     },
     "output_type": "display_data"
    },
    {
     "data": {
      "image/png": "[encoded data removed]",
      "text/plain": [
       "<Figure size 432x288 with 1 Axes>"
      ]
     },
     "metadata": {
      "needs_background": "light"
     },
     "output_type": "display_data"
    },
    {
     "data": {
      "image/png": "[encoded data removed]",
      "text/plain": [
       "<Figure size 432x288 with 1 Axes>"
      ]
     },
     "metadata": {
      "needs_background": "light"
     },
     "output_type": "display_data"
    }
   ],
   "source": [
    "# importando alguns pacotes a mais\n",
    "import matplotlib.mlab as mlab\n",
    "import matplotlib.pyplot as plt\n",
    "\n",
    "# Checagem feita para cada ativo\n",
    "def comparacao(ticker):\n",
    "    retornos[ticker].hist(bins=40, density=True, histtype=\"stepfilled\", alpha=0.5)\n",
    "    x = np.linspace(med_port - 3*port_dp, med_port +3*port_dp,100)\n",
    "    plt.plot(x, scipy.stats.norm.pdf(x, med_port, port_dp), \"r\")\n",
    "    plt.title(\"Retornos de AAPL vs Distribuição Normal\")\n",
    "    plt.show()\n",
    "    \n",
    "comparacao('AAPL')\n",
    "comparacao('FB')\n",
    "comparacao('C')\n",
    "comparacao('DIS')"
   ]
  }
 ],
 "metadata": {
  "kernelspec": {
   "display_name": "Python 3.10.4 64-bit",
   "language": "python",
   "name": "python3"
  },
  "language_info": {
   "codemirror_mode": {
    "name": "ipython",
    "version": 3
   },
   "file_extension": ".py",
   "mimetype": "text/x-python",
   "name": "python",
   "nbconvert_exporter": "python",
   "pygments_lexer": "ipython3",
   "version": "3.10.4"
  },
  "vscode": {
   "interpreter": {
    "hash": "afb734500600fd355917ca529030176ea0ca205570884b88f2f6f7d791fd3fbe"
   }
  }
 },
 "nbformat": 4,
 "nbformat_minor": 2
}
